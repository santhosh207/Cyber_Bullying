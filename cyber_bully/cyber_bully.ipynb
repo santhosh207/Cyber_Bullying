{
 "cells": [
  {
   "cell_type": "code",
   "execution_count": 3,
   "id": "3dc2fc5e",
   "metadata": {},
   "outputs": [],
   "source": [
    "import pandas as pd\n",
    "from sklearn.feature_extraction.text import CountVectorizer\n",
    "from sklearn.model_selection import train_test_split\n",
    "from sklearn.linear_model import LogisticRegression\n",
    "import pickle"
   ]
  },
  {
   "cell_type": "code",
   "execution_count": 4,
   "id": "b480474d",
   "metadata": {},
   "outputs": [],
   "source": [
    "# Step 1: Load the labeled data\n",
    "\n",
    "data = pd.read_csv('public.csv')\n",
    "texts = data['full_text']\n",
    "labels = data['label']"
   ]
  },
  {
   "cell_type": "code",
   "execution_count": 5,
   "id": "84ae36af",
   "metadata": {},
   "outputs": [],
   "source": [
    "# Step 2: Split the data into training and validation sets\n",
    "texts_train, texts_val, labels_train, labels_val = train_test_split(texts, labels, test_size=0.2, random_state=42)"
   ]
  },
  {
   "cell_type": "code",
   "execution_count": 6,
   "id": "323725fe",
   "metadata": {},
   "outputs": [],
   "source": [
    "# Step 3: Create a CountVectorizer\n",
    "vectorizer = CountVectorizer()\n",
    "features_train = vectorizer.fit_transform(texts_train)\n",
    "features_val = vectorizer.transform(texts_val)\n",
    "with open('vectorizer.pkl', 'wb') as file:\n",
    "    pickle.dump(vectorizer, file)"
   ]
  },
  {
   "cell_type": "code",
   "execution_count": 7,
   "id": "3152756d",
   "metadata": {},
   "outputs": [],
   "source": [
    "# Step 4: Train a logistic regression model\n",
    "model = LogisticRegression()\n",
    "model.fit(features_train, labels_train)\n",
    "\n",
    "with open('model.pkl', 'wb') as file:\n",
    "    pickle.dump(model, file)"
   ]
  },
  {
   "cell_type": "code",
   "execution_count": 8,
   "id": "bd3b6a5b",
   "metadata": {},
   "outputs": [],
   "source": [
    "# Step 6: Define a function to load the model and make predictions\n",
    "def load_model_and_predict(text):\n",
    "    with open('model.pkl', 'rb') as file:\n",
    "        loaded_model = pickle.load(file)\n",
    "    text_vector = vectorizer.transform([text])\n",
    "    prediction = loaded_model.predict(text_vector)\n",
    "    return prediction[0]\n"
   ]
  },
  {
   "cell_type": "code",
   "execution_count": 11,
   "id": "035af524",
   "metadata": {},
   "outputs": [
    {
     "name": "stdout",
     "output_type": "stream",
     "text": [
      "Prediction: Non-offensive\n"
     ]
    }
   ],
   "source": [
    "# Step 7: Test the model with new text\n",
    "new_text = \"shut the door\"\n",
    "prediction = load_model_and_predict(new_text)\n",
    "print(\"Prediction:\", prediction)"
   ]
  },
  {
   "cell_type": "code",
   "execution_count": null,
   "id": "4a2c027f",
   "metadata": {},
   "outputs": [],
   "source": []
  }
 ],
 "metadata": {
  "kernelspec": {
   "display_name": "Python 3",
   "language": "python",
   "name": "python3"
  },
  "language_info": {
   "codemirror_mode": {
    "name": "ipython",
    "version": 3
   },
   "file_extension": ".py",
   "mimetype": "text/x-python",
   "name": "python",
   "nbconvert_exporter": "python",
   "pygments_lexer": "ipython3",
   "version": "3.8.8"
  }
 },
 "nbformat": 4,
 "nbformat_minor": 5
}
